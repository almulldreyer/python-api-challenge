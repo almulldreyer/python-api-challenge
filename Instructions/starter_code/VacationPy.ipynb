{
 "cells": [
  {
   "cell_type": "markdown",
   "metadata": {},
   "source": [
    "# VacationPy\n",
    "----\n",
    "\n",
    "#### Note\n",
    "* Keep an eye on your API usage. Use https://developers.google.com/maps/reporting/gmp-reporting as reference for how to monitor your usage and billing.\n",
    "\n",
    "* Instructions have been included for each segment. You do not have to follow them exactly, but they are included to help you think through the steps."
   ]
  },
  {
   "cell_type": "code",
   "execution_count": null,
   "metadata": {},
   "outputs": [],
   "source": [
    "# Dependencies and Setup\n",
    "import matplotlib.pyplot as plt\n",
    "import pandas as pd\n",
    "import numpy as np\n",
    "import requests\n",
    "import gmaps\n",
    "import os\n",
    "\n",
    "# Import API key\n",
    "from api_keys import g_key"
   ]
  },
  {
   "cell_type": "markdown",
   "metadata": {},
   "source": [
    "### Store Part I results into DataFrame\n",
    "* Load the csv exported in Part I to a DataFrame"
   ]
  },
  {
   "cell_type": "code",
   "execution_count": null,
   "metadata": {},
   "outputs": [],
   "source": [
    "# Store Part I results into DataFrame\n",
    "# Load the csv exported in Part I to a DataFrame\n",
    "\n",
    "file = pd.read_csv(\"cities.csv\")\n",
    "file.dropna()\n",
    "file.head()\n"
   ]
  },
  {
   "cell_type": "markdown",
   "metadata": {},
   "source": [
    "### Humidity Heatmap\n",
    "* Configure gmaps.\n",
    "* Use the Lat and Lng as locations and Humidity as the weight.\n",
    "* Add Heatmap layer to map."
   ]
  },
  {
   "cell_type": "code",
   "execution_count": null,
   "metadata": {},
   "outputs": [],
   "source": [
    "# Humidity Heatmap\n",
    "# Configure gmaps.\n",
    "# Use the Lat and Lng as locations and Humidity as the weight.\n",
    "# Add Heatmap layer to map.\n",
    "\n",
    "# Configure gmaps with API key\n",
    "gmaps.configure(api_key=g_key)"
   ]
  },
  {
   "cell_type": "code",
   "execution_count": null,
   "metadata": {},
   "outputs": [],
   "source": [
    "\n",
    "# Store 'Lat' and 'Lng' into  locations\n",
    "locations = file[[\"Lat\", \"Lng\"]]\n",
    "humidity = file[\"Humidity\"].astype(float)\n",
    "\n",
    "# Plot Heatmap\n",
    "fig = gmaps.figure(center = [0,0] ,zoom_level = 2)\n",
    "\n",
    "#Create and add heat layer \n",
    "heat_layer = gmaps.heatmap_layer(locations, weights=humidity,\n",
    "                               dissipating=False, max_intensity=100,\n",
    "                               point_radius = 4)\n",
    "fig.add_layer(heat_layer)\n",
    "#Display figure\n",
    "fig"
   ]
  },
  {
   "cell_type": "markdown",
   "metadata": {},
   "source": [
    "### Create new DataFrame fitting weather criteria\n",
    "* Narrow down the cities to fit weather conditions.\n",
    "* Drop any rows will null values."
   ]
  },
  {
   "cell_type": "code",
   "execution_count": null,
   "metadata": {},
   "outputs": [],
   "source": [
    "# Create new DataFrame fitting weather criteria\n",
    "# Narrow down the cities to fit weather conditions.\n",
    "# Drop any rows will null values.\n",
    "\n",
    "temp_file=file.loc[(file['Max Temp']>=70)&(file['Max Temp']<=80)]\n",
    "wind_file=temp_file.loc[(temp_file['Wind Speed']<=10)]\n",
    "ideal_weather=wind_file.loc[(wind_file['Cloudiness']==0)]\n",
    "ideal_weather.head()"
   ]
  },
  {
   "cell_type": "markdown",
   "metadata": {},
   "source": [
    "### Hotel Map\n",
    "* Store into variable named `hotel_df`.\n",
    "* Add a \"Hotel Name\" column to the DataFrame.\n",
    "* Set parameters to search for hotels with 5000 meters.\n",
    "* Hit the Google Places API for each city's coordinates.\n",
    "* Store the first Hotel result into the DataFrame.\n",
    "* Plot markers on top of the heatmap."
   ]
  },
  {
   "cell_type": "code",
   "execution_count": null,
   "metadata": {},
   "outputs": [],
   "source": [
    "# Hotel Map\n",
    "# Store into variable named hotel_df.\n",
    "# Add a \"Hotel Name\" column to the DataFrame.\n",
    "# Set parameters to search for hotels with 5000 meters.\n",
    "# Hit the Google Places API for each city's coordinates.\n",
    "# Store the first Hotel result into the DataFrame.\n",
    "# Plot markers on top of the heatmap.\n",
    "\n",
    "hotel_df = ideal_weather.reset_index(drop=True)\n",
    "hotel_df[\"Hotel Name\"] = \"\"\n",
    "\n",
    "# params dictionary to update each iteration\n",
    "params = {\n",
    "    \"radius\": 50000,\n",
    "    \"types\": \"hotel\",\n",
    "    \"keyword\": \"hotels\",\n",
    "    \"key\": g_key\n",
    "}\n",
    "\n",
    "# Use the lat/lng we recovered to identify hotels\n",
    "for index, row in hotel_df.iterrows():\n",
    "    \n",
    "    # get lat, lng \n",
    "    lat = row[\"Lat\"]\n",
    "    lng = row[\"Lng\"]\n",
    "    \n",
    "    # change location each iteration while leaving original params in place\n",
    "    params[\"location\"] = f\"{lat},{lng}\"\n",
    "    \n",
    "    # Use the search term: \"Hotels\" and our lat/lng\n",
    "    base_url = \"https://maps.googleapis.com/maps/api/place/nearbysearch/json\"\n",
    "    \n",
    "    # make request and print url\n",
    "    hotel_name = requests.get(base_url, params=params)\n",
    "    \n",
    "    # convert to json\n",
    "    hotel_name = hotel_name.json()\n",
    "    print(json.dumps(hotel_name, indent=4, sort_keys=True))\n",
    "    \n",
    "    # Since some data may be missing we incorporate a try-except to skip any that are missing a data point.\n",
    "    try:\n",
    "        hotel_df.loc[index, \"Hotel Name\"] = hotel_name[\"results\"][0][\"name\"]\n",
    "    except (KeyError, IndexError):\n",
    "        print(\"Missing field/result... skipping.\")\n",
    "hotel_df\n"
   ]
  },
  {
   "cell_type": "code",
   "execution_count": null,
   "metadata": {},
   "outputs": [],
   "source": []
  },
  {
   "cell_type": "code",
   "execution_count": null,
   "metadata": {},
   "outputs": [],
   "source": [
    "# NOTE: Do not change any of the code in this cell\n",
    "\n",
    "# Using the template add the hotel marks to the heatmap\n",
    "info_box_template = \"\"\"\n",
    "<dl>\n",
    "<dt>Name</dt><dd>{Hotel Name}</dd>\n",
    "<dt>City</dt><dd>{City}</dd>\n",
    "<dt>Country</dt><dd>{Country}</dd>\n",
    "</dl>\n",
    "\"\"\"\n",
    "# Store the DataFrame Row\n",
    "# NOTE: be sure to update with your DataFrame name\n",
    "hotel_info = [info_box_template.format(**row) for index, row in hotel_df.iterrows()]\n",
    "locations = hotel_df[[\"Lat\", \"Lng\"]]"
   ]
  },
  {
   "cell_type": "code",
   "execution_count": null,
   "metadata": {},
   "outputs": [],
   "source": [
    "\n",
    "# Add marker layer on top of heat map\n",
    "markers = gmaps.marker_layer(locations,\n",
    "    info_box_content=[f\"Hotel loc: {rate}\" for rate in hotel_info])\n",
    "\n",
    "fig.add_layer(markers)\n",
    "\n",
    "# Display figure\n",
    "fig"
   ]
  },
  {
   "cell_type": "code",
   "execution_count": null,
   "metadata": {},
   "outputs": [],
   "source": []
  }
 ],
 "metadata": {
  "kernelspec": {
   "display_name": "pydev",
   "language": "python",
   "name": "pydev"
  },
  "language_info": {
   "codemirror_mode": {
    "name": "ipython",
    "version": 3
   },
   "file_extension": ".py",
   "mimetype": "text/x-python",
   "name": "python",
   "nbconvert_exporter": "python",
   "pygments_lexer": "ipython3",
   "version": "3.7.7"
  },
  "latex_envs": {
   "LaTeX_envs_menu_present": true,
   "autoclose": false,
   "autocomplete": true,
   "bibliofile": "biblio.bib",
   "cite_by": "apalike",
   "current_citInitial": 1,
   "eqLabelWithNumbers": true,
   "eqNumInitial": 1,
   "hotkeys": {
    "equation": "Ctrl-E",
    "itemize": "Ctrl-I"
   },
   "labels_anchors": false,
   "latex_user_defs": false,
   "report_style_numbering": false,
   "user_envs_cfg": false
  }
 },
 "nbformat": 4,
 "nbformat_minor": 4
}
